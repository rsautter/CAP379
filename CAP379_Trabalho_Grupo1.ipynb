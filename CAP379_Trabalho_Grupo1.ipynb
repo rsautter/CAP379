{
  "nbformat": 4,
  "nbformat_minor": 0,
  "metadata": {
    "colab": {
      "name": "CAP379-Trabalho-Grupo1.ipynb",
      "version": "0.3.2",
      "provenance": [],
      "collapsed_sections": [],
      "include_colab_link": true
    },
    "kernelspec": {
      "name": "python3",
      "display_name": "Python 3"
    }
  },
  "cells": [
    {
      "cell_type": "markdown",
      "metadata": {
        "id": "view-in-github",
        "colab_type": "text"
      },
      "source": [
        "<a href=\"https://colab.research.google.com/github/rsautter/CAP379/blob/master/CAP379_Trabalho_Grupo1.ipynb\" target=\"_parent\"><img src=\"https://colab.research.google.com/assets/colab-badge.svg\" alt=\"Open In Colab\"/></a>"
      ]
    },
    {
      "cell_type": "markdown",
      "metadata": {
        "id": "ICEOwG4q_i_H",
        "colab_type": "text"
      },
      "source": [
        "# CAP379 - Topics in Spatial Science - Prof. Reinaldo\n",
        "\n",
        "**Course project - Group 1**\n",
        "\n",
        "- Marcos\n",
        "- Rubens\n",
        "- Eduardo\n",
        "\n",
        "_<small>Last update: 2019-09-01</small>_\n",
        "\n",
        "## Objectives\n",
        "\n",
        "### Part 1 (Eduardo)\n",
        "\n",
        "* Reproduce and generalize the PythonSQL (AstroML) for SDCC datasets, using Jupyter Notebook\n",
        "  * Observatory Sloan Digital Sky Survey (SDSS)\n",
        "  * Algorithm Fetch SDSS Galaxy Colors\n",
        "* Dataset CDM\n",
        "\n",
        "Link: https://github.com/efurlanm/379/blob/master/CAP379_Trabalho_Grupo1_Eduardo.ipynb\n",
        "\n",
        "### Part 2 (Marcos) Trabalho de classificação \n",
        "\n",
        "- AstroML Supervised Classification Examples\n",
        " - Gaussian Navie Bayes Classifier with sintetic data\n",
        " - Gaussian Navie Bayes Classifier with SuperNova Remnants\n",
        "- AstroML Neural Network\n",
        " - Photometric redshift estimation using SDSS data\n",
        "\n",
        "Link: https://github.com/marcosmlr/cap379.git\n",
        "\n",
        "\n",
        "### Part 3 (Rubens) Trabalhar com\n",
        "\n",
        "*    EM example: K-means\n",
        "\n",
        "*    Great Wall KDE\n",
        "\n",
        "*    Euclidean Minimum Spanning Tree\n",
        "\n",
        "*    Bayes Decision Boundary\n",
        "\n",
        "Link: https://github.com/rsautter/CAP379/blob/master/T1-RAS-1.3.ipynb"
      ]
    }
  ]
}